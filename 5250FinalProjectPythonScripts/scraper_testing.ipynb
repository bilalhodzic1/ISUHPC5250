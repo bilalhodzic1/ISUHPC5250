{
 "cells": [
  {
   "cell_type": "code",
   "execution_count": 51,
   "id": "69091358",
   "metadata": {},
   "outputs": [],
   "source": [
    "import requests\n",
    "from bs4 import BeautifulSoup\n",
    "import re\n",
    "import json\n",
    "import time\n",
    "import string"
   ]
  },
  {
   "cell_type": "code",
   "execution_count": 21,
   "id": "efef1fa6",
   "metadata": {},
   "outputs": [],
   "source": [
    "URL = \"https://www.basketball-reference.com/players/a/\"\n",
    "page = requests.get(URL)\n",
    "soup = BeautifulSoup(page.content, \"html.parser\")"
   ]
  },
  {
   "cell_type": "code",
   "execution_count": 22,
   "id": "179259c6",
   "metadata": {},
   "outputs": [],
   "source": [
    "player_tds = soup.find_all(attrs={\"data-stat\":\"player\"})"
   ]
  },
  {
   "cell_type": "code",
   "execution_count": 24,
   "id": "9823c108",
   "metadata": {},
   "outputs": [
    {
     "data": {
      "text/plain": [
       "<th aria-label=\"Player\" class=\"poptip sort_default_asc center\" data-stat=\"player\" scope=\"col\">Player</th>"
      ]
     },
     "execution_count": 24,
     "metadata": {},
     "output_type": "execute_result"
    }
   ],
   "source": [
    "player_tds.pop(0)"
   ]
  },
  {
   "cell_type": "code",
   "execution_count": null,
   "id": "c085ae01",
   "metadata": {},
   "outputs": [],
   "source": [
    "url_endings = []\n",
    "for td in player_tds:\n",
    "    anchor = td.find(\"a\")\n",
    "    url_endings.append(anchor.get(\"href\"))"
   ]
  },
  {
   "cell_type": "code",
   "execution_count": 47,
   "id": "094b3ae4",
   "metadata": {},
   "outputs": [],
   "source": [
    "all_game_stat_urls = []\n",
    "for player_ending in url_endings:\n",
    "    PLAYER_URL = f\"https://www.basketball-reference.com/{player_ending}\"\n",
    "    player_page = requests.get(PLAYER_URL)\n",
    "    player_soup = BeautifulSoup(player_page.content, \"html.parser\")\n",
    "    player_season_url_endings = []\n",
    "    for li in player_soup.find_all('li'):\n",
    "        first_tag = next((child for child in li.children if child.name), None)\n",
    "        if first_tag and first_tag.name == 'span' and first_tag.get_text(strip=True) == 'Game Logs':\n",
    "            inner_tags = li.find_all('li')\n",
    "            pattern = re.compile(r'^\\d{4}-\\d{2}$')\n",
    "            for tag in inner_tags:\n",
    "                game_season_anchor = tag.find('a')\n",
    "                if(pattern.match(game_season_anchor.text)):\n",
    "                    player_season_url_endings.append(game_season_anchor.get(\"href\"))\n",
    "    prefix = 'https://www.basketball-reference.com'\n",
    "    player_season_urls = [prefix + item for item in player_season_url_endings]\n",
    "    all_game_stat_urls = all_game_stat_urls + player_season_urls\n",
    "    time.sleep(4)"
   ]
  },
  {
   "cell_type": "code",
   "execution_count": 54,
   "id": "a1f78b96",
   "metadata": {},
   "outputs": [],
   "source": [
    "with open('gamlogurlstest.json', 'w') as f:\n",
    "    json.dump(all_game_stat_urls, f)"
   ]
  }
 ],
 "metadata": {
  "kernelspec": {
   "display_name": ".venv",
   "language": "python",
   "name": "python3"
  },
  "language_info": {
   "codemirror_mode": {
    "name": "ipython",
    "version": 3
   },
   "file_extension": ".py",
   "mimetype": "text/x-python",
   "name": "python",
   "nbconvert_exporter": "python",
   "pygments_lexer": "ipython3",
   "version": "3.13.2"
  }
 },
 "nbformat": 4,
 "nbformat_minor": 5
}
